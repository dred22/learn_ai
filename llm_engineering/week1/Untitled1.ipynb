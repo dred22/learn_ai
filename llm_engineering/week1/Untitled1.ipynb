{
 "cells": [
  {
   "cell_type": "code",
   "execution_count": 24,
   "id": "7c5e5529-bf65-447c-b0ae-01263783c0ca",
   "metadata": {},
   "outputs": [],
   "source": [
    "my_string = { 'a':1, 'b':2, 'c':3}"
   ]
  },
  {
   "cell_type": "code",
   "execution_count": 26,
   "id": "4842ac1f-f560-43cc-a187-f0269e5d7f2f",
   "metadata": {},
   "outputs": [
    {
     "data": {
      "text/plain": [
       "dict"
      ]
     },
     "execution_count": 26,
     "metadata": {},
     "output_type": "execute_result"
    }
   ],
   "source": [
    "type(my_string)"
   ]
  },
  {
   "cell_type": "code",
   "execution_count": 32,
   "id": "674c01c1-bb1d-4224-bb9b-b003c8567a38",
   "metadata": {},
   "outputs": [
    {
     "name": "stdout",
     "output_type": "stream",
     "text": [
      "<class 'tuple'>\n",
      "<class 'tuple'>\n",
      "<class 'tuple'>\n"
     ]
    }
   ],
   "source": [
    "for k in my_string.items():\n",
    "    print(type(k))"
   ]
  },
  {
   "cell_type": "code",
   "execution_count": 33,
   "id": "c757131c-1afb-4b0f-b6cf-b131a11c5b20",
   "metadata": {},
   "outputs": [],
   "source": [
    "ll = ['aa','dd','ss']"
   ]
  },
  {
   "cell_type": "code",
   "execution_count": 34,
   "id": "a7c3e6b4-36b1-4c51-9ff2-5f0123a44ec3",
   "metadata": {},
   "outputs": [
    {
     "data": {
      "text/plain": [
       "['aa', 'dd', 'ss']"
      ]
     },
     "execution_count": 34,
     "metadata": {},
     "output_type": "execute_result"
    }
   ],
   "source": [
    "ll"
   ]
  },
  {
   "cell_type": "code",
   "execution_count": 99,
   "id": "57873e9a-0103-485d-9b22-be926fa9b005",
   "metadata": {},
   "outputs": [],
   "source": [
    "en = enumerate(ll)"
   ]
  },
  {
   "cell_type": "code",
   "execution_count": 103,
   "id": "00865dd2-eebd-4544-be07-3a30559cc3e6",
   "metadata": {},
   "outputs": [
    {
     "ename": "StopIteration",
     "evalue": "",
     "output_type": "error",
     "traceback": [
      "\u001b[31m---------------------------------------------------------------------------\u001b[39m",
      "\u001b[31mStopIteration\u001b[39m                             Traceback (most recent call last)",
      "\u001b[36mCell\u001b[39m\u001b[36m \u001b[39m\u001b[32mIn[103]\u001b[39m\u001b[32m, line 1\u001b[39m\n\u001b[32m----> \u001b[39m\u001b[32m1\u001b[39m \u001b[38;5;28;43mnext\u001b[39;49m\u001b[43m(\u001b[49m\u001b[43men\u001b[49m\u001b[43m)\u001b[49m\n",
      "\u001b[31mStopIteration\u001b[39m: "
     ]
    }
   ],
   "source": [
    "next(en)\n"
   ]
  },
  {
   "cell_type": "code",
   "execution_count": 54,
   "id": "60dcb9de-7b65-4baf-ba9e-7cd3edb015fe",
   "metadata": {},
   "outputs": [],
   "source": [
    "ss = ['ff','gg']"
   ]
  },
  {
   "cell_type": "code",
   "execution_count": 55,
   "id": "4093cf86-55ea-4ce7-a08e-fd5e086cfb83",
   "metadata": {},
   "outputs": [
    {
     "data": {
      "text/plain": [
       "['aa', 'dd', 'ss']"
      ]
     },
     "execution_count": 55,
     "metadata": {},
     "output_type": "execute_result"
    }
   ],
   "source": [
    "ll"
   ]
  },
  {
   "cell_type": "code",
   "execution_count": 56,
   "id": "43f1e4b4-b7e7-47de-9cf6-e6e15b7a0b3b",
   "metadata": {},
   "outputs": [
    {
     "data": {
      "text/plain": [
       "['ff', 'gg']"
      ]
     },
     "execution_count": 56,
     "metadata": {},
     "output_type": "execute_result"
    }
   ],
   "source": [
    "ss"
   ]
  },
  {
   "cell_type": "code",
   "execution_count": 59,
   "id": "60b1fba8-1295-451d-8988-caa402c3639c",
   "metadata": {},
   "outputs": [
    {
     "data": {
      "text/plain": [
       "{'ff': 'aa', 'gg': 'dd'}"
      ]
     },
     "execution_count": 59,
     "metadata": {},
     "output_type": "execute_result"
    }
   ],
   "source": [
    "dict(zip(ss, ll))"
   ]
  },
  {
   "cell_type": "code",
   "execution_count": 66,
   "id": "f9444204-b551-4d73-b1de-05cc980535a4",
   "metadata": {},
   "outputs": [],
   "source": [
    "nn = [0,1,2,3,4,5]"
   ]
  },
  {
   "cell_type": "code",
   "execution_count": 67,
   "id": "4e5785b7-6058-462d-8530-d3ed36ae19c5",
   "metadata": {},
   "outputs": [
    {
     "data": {
      "text/plain": [
       "list"
      ]
     },
     "execution_count": 67,
     "metadata": {},
     "output_type": "execute_result"
    }
   ],
   "source": [
    "type(nn)"
   ]
  },
  {
   "cell_type": "code",
   "execution_count": 79,
   "id": "9919b2ac-f29e-4efa-998f-f377ec598b98",
   "metadata": {},
   "outputs": [],
   "source": [
    "res = [numb for numb in nn if numb>2]"
   ]
  },
  {
   "cell_type": "code",
   "execution_count": 80,
   "id": "070c7068-f997-4d93-a55e-20fa535384a0",
   "metadata": {},
   "outputs": [
    {
     "data": {
      "text/plain": [
       "[3, 4, 5]"
      ]
     },
     "execution_count": 80,
     "metadata": {},
     "output_type": "execute_result"
    }
   ],
   "source": [
    "res"
   ]
  },
  {
   "cell_type": "code",
   "execution_count": 81,
   "id": "a3d43d27-f355-4480-b14c-eb0c3f477e20",
   "metadata": {},
   "outputs": [],
   "source": [
    "widgets = ['w1','w2','w3','w4']\n",
    "sales = [10,5,15,0]"
   ]
  },
  {
   "cell_type": "code",
   "execution_count": 84,
   "id": "dda819d0-e8f9-4501-a906-04d4d1d96d9c",
   "metadata": {},
   "outputs": [],
   "source": [
    "d = {widgets[i]: sales[i] for i in range(len(widgets))}"
   ]
  },
  {
   "cell_type": "code",
   "execution_count": 85,
   "id": "0e74cc20-5689-4283-bb74-f8cca3ee6bb8",
   "metadata": {},
   "outputs": [
    {
     "data": {
      "text/plain": [
       "{'w1': 10, 'w2': 5, 'w3': 15, 'w4': 0}"
      ]
     },
     "execution_count": 85,
     "metadata": {},
     "output_type": "execute_result"
    }
   ],
   "source": [
    "d"
   ]
  },
  {
   "cell_type": "code",
   "execution_count": 89,
   "id": "d9ab6352-49f9-4128-aeac-46055e5496ae",
   "metadata": {},
   "outputs": [
    {
     "data": {
      "text/plain": [
       "{'w1': 10, 'w2': 5, 'w3': 15, 'w4': 0}"
      ]
     },
     "execution_count": 89,
     "metadata": {},
     "output_type": "execute_result"
    }
   ],
   "source": [
    "dict(zip(widgets,sales))"
   ]
  },
  {
   "cell_type": "code",
   "execution_count": 107,
   "id": "3d50cc32-5938-44f5-8409-d04e83e84f87",
   "metadata": {},
   "outputs": [
    {
     "data": {
      "text/plain": [
       "[5, 0]"
      ]
     },
     "execution_count": 107,
     "metadata": {},
     "output_type": "execute_result"
    }
   ],
   "source": [
    "list(filter(lambda x: x<10, sales))"
   ]
  },
  {
   "cell_type": "code",
   "execution_count": null,
   "id": "a81db2ac-53cf-465b-b45c-73d3ad6ac9d7",
   "metadata": {},
   "outputs": [],
   "source": []
  }
 ],
 "metadata": {
  "kernelspec": {
   "display_name": "Python 3 (ipykernel)",
   "language": "python",
   "name": "python3"
  },
  "language_info": {
   "codemirror_mode": {
    "name": "ipython",
    "version": 3
   },
   "file_extension": ".py",
   "mimetype": "text/x-python",
   "name": "python",
   "nbconvert_exporter": "python",
   "pygments_lexer": "ipython3",
   "version": "3.13.5"
  }
 },
 "nbformat": 4,
 "nbformat_minor": 5
}
